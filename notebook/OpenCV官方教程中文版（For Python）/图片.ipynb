{
 "cells": [
  {
   "cell_type": "markdown",
   "metadata": {},
   "source": [
    "## 目标\n",
    "\n",
    "• 在这里你将学会怎样读入一幅图像，怎样显示一幅图像，以及如何保存一幅图像\n",
    "\n",
    "• 你将要学习如下函数： cv2.imread()， cv2.imshow()， cv2.imwrite()\n",
    "\n",
    "• 如果你愿意的话，我会叫你如何使用 Matplotlib 显示一幅图片\n",
    "\n",
    "## 1. 读取图像\n",
    "使用函数 cv2.imread() 读入图像。这幅图像应该在此程序的工作路径，或者给函数提供完整路径，第二个参数是要告诉函数应该如何读取这幅图片。\n",
    "\n",
    "• cv2.IMREAD_COLOR：读入一副彩色图像。图像的透明度会被忽略，这是默认参数。\n",
    "\n",
    "• cv2.IMREAD_GRAYSCALE：以灰度模式读入图像 \n",
    "\n",
    "• cv2.IMREAD_UNCHANGED：读入一幅图像，并且包括图像的 alpha 通道"
   ]
  },
  {
   "cell_type": "code",
   "execution_count": 1,
   "metadata": {},
   "outputs": [],
   "source": [
    "# 导入相关模块\n",
    "import numpy as np\n",
    "import cv2\n",
    "\n",
    "# load image\n",
    "image = cv2.imread(\"../../image/OpenCV-Toturial/mengmeng.jpg\", 0)\n",
    "# show image\n",
    "cv2.imshow('image', image)\n",
    "cv2.waitKey(0)\n",
    "cv2.destroyAllWindows()"
   ]
  },
  {
   "cell_type": "markdown",
   "metadata": {},
   "source": [
    "cv2.waitKey() 是一个键盘绑定函数。需要指出的是它的时间尺度是毫秒级。函数等待特定的几毫秒，看是否有键盘输入。特定的几毫秒之内，如果按下任意键，这个函数会返回按键的 ASCII 码值，程序将会继续运行。如果没有键盘输入，返回值为 -1，如果我们设置这个函数的参数为 0，那它将会无限期的等待键盘输入；它也可以被用来检测特定键是否被按下。\n",
    "\n",
    "cv2.destroyAllWindows() 可以轻易删除任何我们建立的窗口。如果你想删除特定的窗口可以使用 cv2.destroyWindow()，在括号内输入你想删除的窗口名。\n",
    "\n",
    "cv2.namedWindow()。也可以先创建一个窗 口，之后再加载图像。这种情况下，你可以决定窗口是否可以调整大小。使到的函数是cv2.namedWindow()。初始设定函数标签是cv2.WINDOW_AUTOSIZE。但是如果你把标签改cv2.WINDOW_NORMAL，你就可以调整窗口大小了。当图像维度太大，或者要添加轨迹条时，调整窗口大小将会很有用 初 始 设 定 函 数标 签 是 cv2.WINDOW_AUTOSIZE。但是如果你把标签改成cv2.WINDOW_NORMAL，你就可以调整窗口大小了。当图像维度太大，或者要添加轨迹条时，调整窗口大小将会很有用。\n",
    "\n",
    "cv2.imwrite() 来保存一个图像。首先需要一个文件名，之后才是你要保存的图像。"
   ]
  },
  {
   "cell_type": "code",
   "execution_count": 2,
   "metadata": {},
   "outputs": [],
   "source": [
    "cv2.namedWindow('image_1', cv2.WINDOW_NORMAL)\n",
    "cv2.imshow('image_1', image)\n",
    "cv2.imwrite('../../data/meme.jpg', image)\n",
    "cv2.waitKey(0)\n",
    "cv2.destroyAllWindows()"
   ]
  },
  {
   "cell_type": "markdown",
   "metadata": {},
   "source": [
    "Matplotib 是 python 的一个绘图库，里头有各种各样的绘图方法。"
   ]
  },
  {
   "cell_type": "code",
   "execution_count": null,
   "metadata": {},
   "outputs": [],
   "source": [
    "import matplot"
   ]
  }
 ],
 "metadata": {
  "kernelspec": {
   "display_name": "Python 3",
   "language": "python",
   "name": "python3"
  },
  "language_info": {
   "codemirror_mode": {
    "name": "ipython",
    "version": 3
   },
   "file_extension": ".py",
   "mimetype": "text/x-python",
   "name": "python",
   "nbconvert_exporter": "python",
   "pygments_lexer": "ipython3",
   "version": "3.6.5"
  }
 },
 "nbformat": 4,
 "nbformat_minor": 2
}
